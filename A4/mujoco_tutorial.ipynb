{
 "cells": [
  {
   "cell_type": "markdown",
   "metadata": {},
   "source": [
    "## MuJoCo & `dm_control` Tutorial\n",
    "\n",
    "The following is a simplified version of the official tutorial of MuJoCo and `dm_control`. You can find the official tutorial [here](https://github.com/google-deepmind/dm_control/blob/main/tutorial.ipynb). For the purpose of A3, we will use the `dm_control` package to interact with the MuJoCo environment."
   ]
  },
  {
   "cell_type": "code",
   "execution_count": null,
   "metadata": {},
   "outputs": [],
   "source": [
    "# The basic mujoco wrapper.\n",
    "from dm_control import mujoco\n",
    "from dm_control import suite\n",
    "\n",
    "#@title Other imports and helper functions\n",
    "\n",
    "# General\n",
    "import copy\n",
    "import os\n",
    "import itertools\n",
    "from IPython.display import clear_output\n",
    "import numpy as np\n",
    "\n",
    "# Graphics-related\n",
    "import matplotlib\n",
    "import matplotlib.animation as animation\n",
    "import matplotlib.pyplot as plt\n",
    "from IPython.display import HTML\n",
    "import PIL.Image\n",
    "# Internal loading of video libraries.\n",
    "\n",
    "# Use svg backend for figure rendering\n",
    "%config InlineBackend.figure_format = 'svg'\n",
    "\n",
    "# Font sizes\n",
    "SMALL_SIZE = 8\n",
    "MEDIUM_SIZE = 10\n",
    "BIGGER_SIZE = 12\n",
    "plt.rc('font', size=SMALL_SIZE)          # controls default text sizes\n",
    "plt.rc('axes', titlesize=SMALL_SIZE)     # fontsize of the axes title\n",
    "plt.rc('axes', labelsize=MEDIUM_SIZE)    # fontsize of the x and y labels\n",
    "plt.rc('xtick', labelsize=SMALL_SIZE)    # fontsize of the tick labels\n",
    "plt.rc('ytick', labelsize=SMALL_SIZE)    # fontsize of the tick labels\n",
    "plt.rc('legend', fontsize=SMALL_SIZE)    # legend fontsize\n",
    "plt.rc('figure', titlesize=BIGGER_SIZE)  # fontsize of the figure title\n",
    "\n",
    "def display_video(frames, framerate=30):\n",
    "    height, width, _ = frames[0].shape\n",
    "    dpi = 70\n",
    "    orig_backend = matplotlib.get_backend()\n",
    "    matplotlib.use('Agg')  # Switch to headless 'Agg' to inhibit figure rendering.\n",
    "    fig, ax = plt.subplots(1, 1, figsize=(width / dpi, height / dpi), dpi=dpi)\n",
    "    matplotlib.use(orig_backend)  # Switch back to the original backend.\n",
    "    ax.set_axis_off()\n",
    "    ax.set_aspect('equal')\n",
    "    ax.set_position([0, 0, 1, 1])\n",
    "    im = ax.imshow(frames[0])\n",
    "    def update(frame):\n",
    "        im.set_data(frame)\n",
    "        return [im]\n",
    "    interval = 1000/framerate\n",
    "    anim = animation.FuncAnimation(fig=fig, func=update, frames=frames,\n",
    "                                   interval=interval, blit=True, repeat=False)\n",
    "    return HTML(anim.to_html5_video())\n"
   ]
  },
  {
   "cell_type": "markdown",
   "metadata": {},
   "source": [
    "## Free bodies: the self-inverting \"tippe-top\"\n",
    "\n",
    "A free body is a body with a `free` joint, with 6 movement DOFs: 3 translations and 3 rotations. We could give our `box_and_sphere` body a free joint and watch it fall, but let's look at something more interesting. A \"tippe top\" is a spinning toy which flips itself on its head ([Wikipedia](https://en.wikipedia.org/wiki/Tippe_top)). We model it as follows:"
   ]
  },
  {
   "cell_type": "code",
   "execution_count": null,
   "metadata": {},
   "outputs": [],
   "source": [
    "# @title The \"tippe-top\" model{vertical-output: true}\n",
    "\n",
    "tippe_top = \"\"\"\n",
    "<mujoco model=\"tippe top\">\n",
    "  <option integrator=\"RK4\"/>\n",
    "  <asset>\n",
    "    <texture name=\"grid\" type=\"2d\" builtin=\"checker\" rgb1=\".1 .2 .3\" \n",
    "     rgb2=\".2 .3 .4\" width=\"300\" height=\"300\"/>\n",
    "    <material name=\"grid\" texture=\"grid\" texrepeat=\"8 8\" reflectance=\".2\"/>\n",
    "  </asset>\n",
    "  <worldbody>\n",
    "    <geom size=\".2 .2 .01\" type=\"plane\" material=\"grid\"/>\n",
    "    <light pos=\"0 0 .6\"/>\n",
    "    <camera name=\"closeup\" pos=\"0 -.1 .07\" xyaxes=\"1 0 0 0 1 2\"/>\n",
    "    <body name=\"top\" pos=\"0 0 .02\">\n",
    "      <freejoint/>\n",
    "      <geom name=\"ball\" type=\"sphere\" size=\".02\" />\n",
    "      <geom name=\"stem\" type=\"cylinder\" pos=\"0 0 .02\" size=\"0.004 .008\"/>\n",
    "      <geom name=\"ballast\" type=\"box\" size=\".023 .023 0.005\"  pos=\"0 0 -.015\" \n",
    "       contype=\"0\" conaffinity=\"0\" group=\"3\"/>\n",
    "    </body>\n",
    "  </worldbody>\n",
    "  <keyframe>\n",
    "    <key name=\"spinning\" qpos=\"0 0 0.02 1 0 0 0\" qvel=\"0 0 0 0 1 200\" />\n",
    "  </keyframe>\n",
    "</mujoco>\n",
    "\"\"\"\n",
    "physics = mujoco.Physics.from_xml_string(tippe_top)\n",
    "PIL.Image.fromarray(physics.render(camera_id=\"closeup\"))"
   ]
  },
  {
   "cell_type": "markdown",
   "metadata": {},
   "source": [
    "Note several new features of this model definition:\n",
    "0. The free joint is added with the `<freejoint/>` clause, which is similar to `<joint type=\"free\"/>`, but prohibits unphysical attributes like friction or stiffness.\n",
    "1. We use the `<option/>` clause to set the integrator to the more accurate Runge Kutta 4th order.\n",
    "2. We define the floor's grid material inside the `<asset/>` clause and reference it in the floor geom. \n",
    "3. We use an invisible and non-colliding box geom called `ballast` to move the top's center-of-mass lower. Having a low center of mass is  (counter-intuitively) required for the flipping behaviour to occur.\n",
    "4. We save our initial spinning state as a keyframe. It has a high rotational velocity around the z-axis, but is not perfectly oriented with the world.\n",
    "5. We define a `<camera>` in our model, and then render from it using the `camera_id` argument to `render()`.\n",
    "Let us examine the state:"
   ]
  },
  {
   "cell_type": "code",
   "execution_count": null,
   "metadata": {},
   "outputs": [],
   "source": [
    "print(\"positions\", physics.data.qpos)\n",
    "print(\"velocities\", physics.data.qvel)"
   ]
  },
  {
   "cell_type": "markdown",
   "metadata": {},
   "source": [
    "The velocities are easy to interpret, 6 zeros, one for each DOF. What about the length-7 positions? We can see the initial 2cm height of the body; the subsequent four numbers are the 3D orientation, defined by a *unit quaternion*. These normalized four-vectors, which preserve the topology of the orientation group, are the reason that `data.qpos` can be bigger than `data.qvel`: 3D orientations are represented with **4** numbers while angular velocities are **3** numbers."
   ]
  },
  {
   "cell_type": "code",
   "execution_count": null,
   "metadata": {},
   "outputs": [],
   "source": [
    "# @title Video of the tippe-top {vertical-output: true}\n",
    "\n",
    "duration = 7  # (seconds)\n",
    "framerate = 60  # (Hz)\n",
    "\n",
    "# Simulate and display video.\n",
    "frames = []\n",
    "physics.reset(0)  # Reset to keyframe 0 (load a saved state).\n",
    "while physics.data.time < duration:\n",
    "    physics.step()\n",
    "    if len(frames) < (physics.data.time) * framerate:\n",
    "        pixels = physics.render(camera_id=\"closeup\")\n",
    "        frames.append(pixels)\n",
    "\n",
    "display_video(frames, framerate)"
   ]
  },
  {
   "cell_type": "markdown",
   "metadata": {},
   "source": [
    "### Measuring values from `physics.data`\n",
    "The `physics.data` structure contains all of the dynamic variables and intermediate results produced by the simulation. These are expected to change on each timestep. \n",
    "\n",
    "Below we simulate for 2000 timesteps and plot the state and height of the sphere as a function of time."
   ]
  },
  {
   "cell_type": "code",
   "execution_count": null,
   "metadata": {},
   "outputs": [],
   "source": [
    "# @title Measuring values {vertical-output: true}\n",
    "%matplotlib inline\n",
    "\n",
    "timevals = []\n",
    "angular_velocity = []\n",
    "stem_height = []\n",
    "\n",
    "# Simulate and save data\n",
    "physics.reset(0)\n",
    "while physics.data.time < duration:\n",
    "    physics.step()\n",
    "    timevals.append(physics.data.time)\n",
    "    angular_velocity.append(physics.data.qvel[3:6].copy())\n",
    "    stem_height.append(physics.named.data.geom_xpos[\"stem\", \"z\"])\n",
    "\n",
    "dpi = 100\n",
    "width = 480\n",
    "height = 640\n",
    "figsize = (width / dpi, height / dpi)\n",
    "_, ax = plt.subplots(2, 1, figsize=figsize, dpi=dpi, sharex=True)\n",
    "\n",
    "ax[0].plot(timevals, angular_velocity)\n",
    "ax[0].set_title(\"angular velocity\")\n",
    "ax[0].set_ylabel(\"radians / second\")\n",
    "\n",
    "ax[1].plot(timevals, stem_height)\n",
    "ax[1].set_xlabel(\"time (seconds)\")\n",
    "ax[1].set_ylabel(\"meters\")\n",
    "_ = ax[1].set_title(\"stem height\")\n",
    "\n",
    "plt.show()"
   ]
  },
  {
   "cell_type": "markdown",
   "metadata": {},
   "source": [
    "# The *Control Suite*"
   ]
  },
  {
   "cell_type": "markdown",
   "metadata": {},
   "source": [
    "The **Control Suite** is a set of stable, well-tested tasks designed to serve as a benchmark for continuous control learning agents. Tasks are written using the basic MuJoCo wrapper interface. Standardised action, observation and reward structures make suite-wide benchmarking simple and learning curves easy to interpret. Control Suite domains are not meant to be modified, in order to facilitate benchmarking. For full details regarding benchmarking, please refer to our original [publication](https://arxiv.org/abs/1801.00690).\n",
    "\n",
    "A video of solved benchmark tasks is [available here](https://www.youtube.com/watch?v=rAai4QzcYbs&feature=youtu.be).\n",
    "\n",
    "The suite come with convenient module level tuples for iterating over tasks:"
   ]
  },
  {
   "cell_type": "code",
   "execution_count": null,
   "metadata": {},
   "outputs": [],
   "source": [
    "# @title Iterating over tasks{vertical-output: true}\n",
    "\n",
    "max_len = max(len(d) for d, _ in suite.BENCHMARKING)\n",
    "for domain, task in suite.BENCHMARKING:\n",
    "    print(f\"{domain:<{max_len}}  {task}\")"
   ]
  },
  {
   "cell_type": "markdown",
   "metadata": {},
   "source": [
    "## Cartpole Balance & Swingup Tasks\n",
    "\n",
    "In the following section, we will look at the Cartpole Balance and Swingup tasks. The Cartpole Balance task is a classic control problem where the goal is to balance a pole on a cart. The Cartpole Swingup task is a more challenging version of the Cartpole Balance task where the goal is to swing the pole up and balance it on the cart. This will be broken into two parts.\n",
    "\n",
    "1. **Part 1:** Implement TD-Learning for both Cartpole Balance Task and Cartpole Swingup Task.\n",
    "   - Define the TD-Learning algorithm function.\n",
    "   - Initialize necessary parameters such as learning rate and discount factor.\n",
    "   - Implement the training loop to update values using the TD-Learning algorithm.\n",
    "\n",
    "2. **Part 2:** Explore different quantization hyperparameters to optimize the performance of the TD-Learning algorithm.\n",
    "    - Implement the training loop to update values using the TD-Learning algorithm.\n",
    "    - Explore different quantization hyperparameters to optimize the performance of the TD-Learning algorithm.\n",
    "\n",
    "3. **Part 3:** Leaderboard Submission\n",
    "    - Submit your best `q_table` alongside with your hyperparameter of the quantization to gradescope, we will evaluate your submission based on the performance of the `q_table` and rank your performance. The top 10 % of the submission will receive 1pts extra credit on this assignment.\n",
    "    "
   ]
  },
  {
   "cell_type": "code",
   "execution_count": null,
   "metadata": {},
   "outputs": [],
   "source": [
    "# @title Loading and simulating a `suite` task{vertical-output: true}\n",
    "\n",
    "# Load the environment\n",
    "random_state = np.random.RandomState(42)\n",
    "env = suite.load(\"cartpole\", \"swingup\", task_kwargs={\"random\": random_state})\n",
    "\n",
    "# Simulate episode with random actions\n",
    "duration = 5  # Seconds\n",
    "frames = []\n",
    "ticks = []\n",
    "rewards = []\n",
    "observations = []\n",
    "\n",
    "spec = env.action_spec()\n",
    "time_step = env.reset()\n",
    "\n",
    "while env.physics.data.time < duration:\n",
    "    action = random_state.uniform(spec.minimum, spec.maximum, spec.shape)\n",
    "    time_step = env.step(action)\n",
    "    camera0 = env.physics.render(camera_id=0, height=400, width=400)\n",
    "    camera1 = env.physics.render(camera_id=1, height=400, width=400)\n",
    "    frames.append(np.hstack((camera0, camera1)))\n",
    "    rewards.append(time_step.reward)\n",
    "    observations.append(copy.deepcopy(time_step.observation))\n",
    "    ticks.append(env.physics.data.time)\n",
    "\n",
    "html_video = display_video(frames, framerate=1.0 / env.control_timestep())\n",
    "\n",
    "# Show video and plot reward and observations\n",
    "num_sensors = len(time_step.observation)\n",
    "\n",
    "_, ax = plt.subplots(1 + num_sensors, 1, sharex=True, figsize=(4, 8))\n",
    "ax[0].plot(ticks, rewards)\n",
    "ax[0].set_ylabel(\"reward\")\n",
    "ax[-1].set_xlabel(\"time\")\n",
    "\n",
    "for i, key in enumerate(time_step.observation):\n",
    "    data = np.asarray([observations[j][key] for j in range(len(observations))])\n",
    "    ax[i + 1].plot(ticks, data, label=key)\n",
    "    ax[i + 1].set_ylabel(key)\n",
    "\n",
    "html_video"
   ]
  },
  {
   "cell_type": "code",
   "execution_count": null,
   "metadata": {},
   "outputs": [],
   "source": []
  }
 ],
 "metadata": {
  "kernelspec": {
   "display_name": "lab4",
   "language": "python",
   "name": "python3"
  },
  "language_info": {
   "name": "python",
   "version": "3.12.8"
  }
 },
 "nbformat": 4,
 "nbformat_minor": 2
}
